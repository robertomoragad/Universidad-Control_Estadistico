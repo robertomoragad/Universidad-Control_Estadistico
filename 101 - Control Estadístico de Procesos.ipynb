{
 "cells": [
  {
   "cell_type": "code",
   "execution_count": 1,
   "metadata": {},
   "outputs": [],
   "source": [
    "#Importamos librerias\n",
    "\n",
    "import numpy as np # importando numpy\n",
    "from scipy import stats # importando scipy.stats\n",
    "import pandas as pd # importando pandas\n",
    "import math\n",
    "import matplotlib.pyplot as plt"
   ]
  },
  {
   "cell_type": "code",
   "execution_count": 10,
   "metadata": {},
   "outputs": [],
   "source": [
    "#Una empresa fabrica piezas de metal, el espesor de estos productos es una característica \n",
    "#Crítica para la Calidad (CTQ).\n",
    "#Generamos la población de productos que queremos estudiar durante 1 mes \n",
    "#la empresa fabrica 100 productos diarios de lunes a viernes (20 días /mes)\n",
    "\n",
    "mu = 629\n",
    "sigma = 3.15\n",
    "size = 2000 #100*20 días\n",
    "\n",
    "poblacion = np.random.RandomState(seed=1).normal(mu, sigma, size)\n"
   ]
  },
  {
   "cell_type": "code",
   "execution_count": 11,
   "metadata": {},
   "outputs": [
    {
     "data": {
      "image/png": "[encoded data removed]",
      "text/plain": [
       "<matplotlib.figure.Figure at 0x1a2124aba8>"
      ]
     },
     "metadata": {},
     "output_type": "display_data"
    }
   ],
   "source": [
    "#Grafiquemos la distribución estadística de la variable \"espesor\" de la producción mensual\n",
    "\n",
    "plt.figure(figsize=(10, 5))\n",
    "plt.hist(poblacion, 50, color='r') #50 clases\n",
    "plt.show()"
   ]
  },
  {
   "cell_type": "code",
   "execution_count": 13,
   "metadata": {},
   "outputs": [],
   "source": [
    "#PERO Esta empresa no tiene la capacidad de medir pieza por pieza, por tanto aplicará\n",
    "#un control estadístico de procesos, midiendo 20 piezas de forma aleatoria por día\n",
    "#generemos la muestra completa de los 20 días muestreados\n",
    "\n",
    "n=20 #tamaño muestral diario\n",
    "d=20 #20 días estudiados\n",
    "\n",
    "muestra20dias = np.random.choice(poblacion, (n*d))"
   ]
  },
  {
   "cell_type": "code",
   "execution_count": 45,
   "metadata": {},
   "outputs": [
    {
     "name": "stdout",
     "output_type": "stream",
     "text": [
      "[630.31784004 627.8804475  632.65853594 624.29328964 629.66504298\n",
      " 628.8727866  625.63673762 624.99804855 623.66924697 626.26652867\n",
      " 630.84786305 624.12833272 630.02946088 622.54816855 627.42279004\n",
      " 633.16648605 633.03137054 629.16004443 629.14756555 619.06692403]\n"
     ]
    },
    {
     "data": {
      "text/plain": [
       "numpy.ndarray"
      ]
     },
     "execution_count": 45,
     "metadata": {},
     "output_type": "execute_result"
    }
   ],
   "source": [
    "#Ahora listemos las muestras de cada día, de forma manual\n",
    " \n",
    "muestra1 = muestra20dias[0:20] #Día 1\n",
    "muestra2 = muestra20dias[20:40] #Día 2\n",
    "muestra3 = muestra20dias[40:60] #Día 3\n",
    "print(muestra1)\n",
    "type(muestra1)"
   ]
  },
  {
   "cell_type": "code",
   "execution_count": 63,
   "metadata": {},
   "outputs": [
    {
     "name": "stdout",
     "output_type": "stream",
     "text": [
      "[array([630.31784004, 627.8804475 , 632.65853594, 624.29328964,\n",
      "       629.66504298, 628.8727866 , 625.63673762, 624.99804855,\n",
      "       623.66924697, 626.26652867, 630.84786305, 624.12833272,\n",
      "       630.02946088, 622.54816855, 627.42279004, 633.16648605,\n",
      "       633.03137054, 629.16004443, 629.14756555, 619.06692403]), array([625.48785236, 630.59091932, 628.87878024, 631.28539606,\n",
      "       634.76420465, 630.91702716, 624.84665409, 635.42214799,\n",
      "       629.02692918, 631.59884395, 624.13515329, 631.64871391,\n",
      "       626.523718  , 629.47997875, 627.88098923, 631.33275282,\n",
      "       630.21464722, 628.93915458, 629.57248424, 631.15460418]), array([633.96272391, 626.10691388, 627.97929816, 625.47478649,\n",
      "       631.25158723, 622.1297619 , 631.57053761, 625.1268411 ,\n",
      "       630.0549827 , 628.23832412, 629.44224562, 623.01669124,\n",
      "       628.20666558, 628.90456514, 628.65856499, 627.60563546,\n",
      "       632.11380852, 630.6982854 , 624.64861787, 629.26267484]), array([628.58512748, 627.07091803, 621.73954   , 629.53355466,\n",
      "       633.32599723, 634.98745486, 630.55991567, 633.43914818,\n",
      "       630.10421983, 625.78105927, 631.85472345, 633.70365182,\n",
      "       628.1310849 , 622.42786972, 626.64939353, 625.27965187,\n",
      "       631.84668471, 626.85531754, 629.14668699, 630.00497315]), array([630.6463638 , 630.51885361, 630.04931083, 631.09185057,\n",
      "       630.56639766, 626.95679733, 624.06792483, 632.40544293,\n",
      "       628.5489334 , 633.71203701, 632.10700937, 628.40570103,\n",
      "       632.57137374, 628.17953191, 627.13374695, 629.40666998,\n",
      "       632.51489949, 631.60812012, 627.84132857, 631.40673047]), array([624.61616429, 628.80894465, 630.51153497, 634.98745486,\n",
      "       626.7244655 , 631.15460418, 627.30204737, 627.81936523,\n",
      "       625.34546417, 632.4998286 , 627.64335602, 628.61521485,\n",
      "       633.36272273, 629.68176793, 627.72087666, 627.02034296,\n",
      "       625.63673762, 633.89830038, 631.15003693, 631.4734648 ]), array([634.13982827, 631.05436585, 632.25611363, 629.43375881,\n",
      "       630.62248188, 628.75846001, 631.71953775, 632.04359572,\n",
      "       627.19811846, 622.19402179, 627.15085863, 629.81503886,\n",
      "       631.53298698, 630.6982854 , 630.0900819 , 625.9958431 ,\n",
      "       624.58851957, 632.88159717, 626.88178868, 631.38558359]), array([627.04699734, 620.99914048, 630.72220034, 631.74862382,\n",
      "       625.62944675, 624.52968135, 629.31166808, 630.28803669,\n",
      "       631.86783435, 633.12313685, 631.28524311, 627.12232805,\n",
      "       628.6205366 , 626.38496808, 630.21464722, 633.49171739,\n",
      "       629.34029707, 627.26220723, 627.45330454, 626.34167881]), array([626.98051038, 629.60279633, 625.42855509, 629.28251218,\n",
      "       623.28360967, 626.78980712, 628.34198316, 628.67961629,\n",
      "       630.37335652, 629.98355187, 629.34435285, 632.55787431,\n",
      "       630.16390206, 624.64235504, 631.04096316, 626.35403492,\n",
      "       629.93063494, 630.57950321, 628.62497931, 628.14339278]), array([629.11402201, 624.39657865, 628.51730609, 634.21994261,\n",
      "       633.8615812 , 627.62058914, 626.69567741, 632.56463257,\n",
      "       630.40205464, 623.90229852, 630.19251307, 631.60812012,\n",
      "       631.68783585, 630.60746893, 631.30917857, 632.83651384,\n",
      "       625.15780515, 625.45482385, 629.01260265, 625.62944675]), array([620.8079783 , 623.44410965, 633.34662169, 624.13515329,\n",
      "       630.84561786, 626.33052451, 630.15678021, 626.99346371,\n",
      "       632.10700937, 632.88528846, 627.10635608, 629.93541571,\n",
      "       626.4061517 , 632.46815064, 635.0473457 , 633.92162152,\n",
      "       635.16164855, 628.17923414, 626.43102584, 632.01178337]), array([627.16609382, 631.86783435, 630.67316595, 630.66321078,\n",
      "       628.66359894, 625.77640907, 625.49267628, 631.93807245,\n",
      "       625.62014884, 630.38046039, 629.96809286, 629.62154537,\n",
      "       629.81503886, 628.05785085, 631.20809368, 633.03874676,\n",
      "       625.57815214, 626.23474598, 626.22885112, 631.88987226]), array([629.99765222, 632.17581617, 627.35766439, 631.61416729,\n",
      "       626.5585286 , 626.69019445, 633.39135528, 628.08965837,\n",
      "       625.57815214, 631.95838154, 630.38022399, 629.06669126,\n",
      "       628.43422127, 627.90231591, 628.93942035, 633.09885824,\n",
      "       631.59884395, 634.70946262, 629.70934672, 630.54104046]), array([628.6512055 , 627.80451983, 628.10897981, 624.34882762,\n",
      "       626.09677398, 631.85472345, 630.91766853, 630.83357527,\n",
      "       627.24389163, 625.24088863, 633.71904078, 632.57137374,\n",
      "       632.17863433, 624.99143992, 629.91598203, 630.94665443,\n",
      "       628.37138374, 632.80663743, 630.56399087, 628.40743197]), array([620.7555362 , 632.53533421, 630.57950321, 632.52768186,\n",
      "       629.05206184, 622.1297619 , 630.95641051, 627.83587836,\n",
      "       633.20569518, 627.39454347, 630.11373673, 631.93974788,\n",
      "       629.77308197, 627.07704078, 630.36508511, 630.11035725,\n",
      "       628.71310198, 632.70777119, 633.57200217, 633.32599723]), array([633.14206348, 625.40994472, 624.33593795, 628.77650852,\n",
      "       635.88456253, 631.71927971, 632.68211808, 629.81595049,\n",
      "       626.4061517 , 628.19790584, 630.19251307, 630.53883216,\n",
      "       630.00174503, 624.06792483, 627.30000308, 621.7501531 ,\n",
      "       630.11718053, 626.91504072, 629.42934817, 628.94565977]), array([631.32486911, 626.65122124, 634.22837686, 630.91430303,\n",
      "       627.69323226, 628.4146958 , 632.68211808, 629.74757175,\n",
      "       622.77645005, 628.58942291, 622.19402179, 624.07180026,\n",
      "       629.31166808, 632.65804993, 626.70073117, 636.8938379 ,\n",
      "       629.07357464, 635.82900177, 626.60219826, 635.31751896]), array([630.91702716, 625.62944675, 627.89957042, 628.87504359,\n",
      "       630.59195299, 631.6445328 , 625.77503215, 637.08117626,\n",
      "       634.13982827, 628.94387472, 630.21464722, 629.53355466,\n",
      "       635.02301655, 633.57278856, 632.41591847, 626.39279553,\n",
      "       626.99947463, 630.07631909, 626.84625724, 633.12313685]), array([627.92382376, 629.60279633, 632.95872303, 621.33026104,\n",
      "       623.02990912, 629.93063494, 621.33026104, 630.21464722,\n",
      "       633.46567314, 634.36265465, 630.38325123, 625.72657569,\n",
      "       630.390298  , 623.28360967, 632.44391589, 624.80435225,\n",
      "       629.98767532, 633.63283055, 626.22740445, 628.47017365]), array([629.59403617, 627.5404854 , 628.43010105, 628.05785085,\n",
      "       628.93850394, 634.1166879 , 626.15608001, 636.22521048,\n",
      "       630.24043135, 630.25558492, 630.76689188, 628.41984457,\n",
      "       629.7778066 , 627.16609382, 629.04206093, 628.9913457 ,\n",
      "       627.42276235, 635.15786594, 634.21994261, 631.5956177 ])]\n",
      "muestra 1 Xbar: 627.6403755180235 S: 3.673398518606368 n: 20\n",
      "muestra 2 Xbar: 629.6850475612489 S: 2.855310676915396 n: 20\n",
      "muestra 3 Xbar: 628.2226755889574 S: 3.0019430060142662 n: 20\n",
      "muestra 4 Xbar: 629.0513486458709 S: 3.5527920494099545 n: 20\n",
      "muestra 5 Xbar: 629.9869511807799 S: 2.338213494239725 n: 20\n",
      "muestra 6 Xbar: 629.2986347359948 S: 2.9016756635689296 n: 20\n",
      "muestra 7 Xbar: 629.5220433028264 S: 2.9427808987255824 n: 20\n",
      "muestra 8 Xbar: 628.6391847076883 S: 3.033532102663924 n: 20\n",
      "muestra 9 Xbar: 628.5064145600529 S: 2.256968799374271 n: 20\n",
      "muestra 10 Xbar: 629.2395495797383 S: 3.129054476480166 n: 20\n",
      "muestra 11 Xbar: 629.3860640145535 S: 3.978200483740772 n: 20\n",
      "muestra 12 Xbar: 628.9941330385846 S: 2.4634226123319816 n: 20\n",
      "muestra 13 Xbar: 629.8895997612424 S: 2.440522428206023 n: 20\n",
      "muestra 14 Xbar: 629.2786811741988 S: 2.70892049836918 n: 20\n",
      "muestra 15 Xbar: 629.7335164528006 S: 3.3765427460742714 n: 20\n",
      "muestra 16 Xbar: 628.7814411747134 S: 3.298725263076922 n: 20\n",
      "muestra 17 Xbar: 629.5837331928436 S: 4.087560685477259 n: 20\n",
      "muestra 18 Xbar: 630.2847696972823 S: 3.1552877394418695 n: 20\n",
      "muestra 19 Xbar: 628.4749735487931 S: 4.019470464611643 n: 20\n",
      "muestra 20 Xbar: 630.105760209461 S: 2.744566598607811 n: 20\n"
     ]
    }
   ],
   "source": [
    "\n",
    "t_muestra = 20 #tamaño de cada muestra tomada cada día\n",
    "n_muestras = 20 #la cantidad de días (del día 1 al día 20)\n",
    "muestras=[]\n",
    "\n",
    "for i in range(0, n_muestras):\n",
    "        muestras.append(muestra20dias[i*t_muestra:(i+1)*t_muestra])\n",
    "\n",
    "print(muestras)\n",
    "\n",
    "for i in range(0, n_muestras):\n",
    "        print(\"muestra\", i+1, \"Xbar:\", muestras[i].mean(), \"S:\", muestras[i].std(),\"n:\", len(muestras[i]))\n",
    "\n"
   ]
  },
  {
   "cell_type": "code",
   "execution_count": 44,
   "metadata": {},
   "outputs": [
    {
     "data": {
      "text/plain": [
       "list"
      ]
     },
     "execution_count": 44,
     "metadata": {},
     "output_type": "execute_result"
    }
   ],
   "source": [
    "\n",
    "lista=[2,4,3]\n",
    "type(lista)\n"
   ]
  },
  {
   "cell_type": "code",
   "execution_count": null,
   "metadata": {},
   "outputs": [],
   "source": []
  }
 ],
 "metadata": {
  "kernelspec": {
   "display_name": "Python 3",
   "language": "python",
   "name": "python3"
  },
  "language_info": {
   "codemirror_mode": {
    "name": "ipython",
    "version": 3
   },
   "file_extension": ".py",
   "mimetype": "text/x-python",
   "name": "python",
   "nbconvert_exporter": "python",
   "pygments_lexer": "ipython3",
   "version": "3.6.4"
  }
 },
 "nbformat": 4,
 "nbformat_minor": 2
}
